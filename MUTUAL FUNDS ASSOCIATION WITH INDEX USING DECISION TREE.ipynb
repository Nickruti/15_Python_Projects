{
  "nbformat": 4,
  "nbformat_minor": 0,
  "metadata": {
    "colab": {
      "name": "ML_Jcomp.ipynb",
      "provenance": [],
      "collapsed_sections": []
    },
    "kernelspec": {
      "name": "python3",
      "display_name": "Python 3"
    },
    "language_info": {
      "name": "python"
    }
  },
  "cells": [
    {
      "cell_type": "code",
      "metadata": {
        "id": "fbl1sYZQ8bUT"
      },
      "source": [
        "import pandas as pd\n",
        "import numpy as np\n",
        "\n",
        "import matplotlib.pyplot as plt\n",
        "import seaborn as sns\n",
        "sns.set_style('whitegrid')\n",
        "plt.style.use(\"fivethirtyeight\")\n",
        "%matplotlib inline\n",
        "\n",
        "# For reading stock data from yahoo\n",
        "from pandas_datareader.data import DataReader\n",
        "\n",
        "# For time stamps\n",
        "from datetime import datetime"
      ],
      "execution_count": null,
      "outputs": []
    },
    {
      "cell_type": "code",
      "metadata": {
        "id": "vKRXYLMt8gsu"
      },
      "source": [
        "# The tech stocks we'll use for this analysis\n",
        "# tech_list = ['AAPL', 'GOOG', 'MSFT', 'AMZN']\n",
        "tech_list = ['INFY.NS', 'TECHM.NS', 'TCS.NS', 'HCLTECH.NS', 'BHARTIARTL.NS']\n",
        "tech = ['INFY', 'TECHM', 'TCS', 'HCLTECH', 'BHARTIARTL']\n",
        "# Set up End and Start times for data grab\n",
        "end = datetime.now()\n",
        "start = datetime(end.year - 1, end.month, end.day)\n",
        "\n",
        "\n",
        "#For loop for grabing yahoo finance data and setting as a dataframe\n",
        "for stock, df in zip(tech_list, tech):   \n",
        "    # Set DataFrame as the Stock Ticker\n",
        "    globals()[df] = DataReader(stock, 'yahoo', start, end)"
      ],
      "execution_count": null,
      "outputs": []
    },
    {
      "cell_type": "code",
      "metadata": {
        "colab": {
          "base_uri": "https://localhost:8080/",
          "height": 387
        },
        "id": "swd1MyWB9KuH",
        "outputId": "c26c7e86-a285-4f5d-d3db-6bcc82ca1b2c"
      },
      "source": [
        "company_list = [INFY, TECHM, TCS, HCLTECH, BHARTIARTL]\n",
        "company_name = [\"INFY.NS\", \"TECHM.NS\", \"TCS.NS\", \"HCLTECH.NS\", \"BHARTIARTL.NS\"]\n",
        "\n",
        "for company, com_name in zip(company_list, company_name):\n",
        "  company[\"company_name\"] = com_name\n",
        "    \n",
        "df = pd.concat(company_list, axis=0)\n",
        "df.head(10)"
      ],
      "execution_count": null,
      "outputs": [
        {
          "output_type": "execute_result",
          "data": {
            "text/html": [
              "<div>\n",
              "<style scoped>\n",
              "    .dataframe tbody tr th:only-of-type {\n",
              "        vertical-align: middle;\n",
              "    }\n",
              "\n",
              "    .dataframe tbody tr th {\n",
              "        vertical-align: top;\n",
              "    }\n",
              "\n",
              "    .dataframe thead th {\n",
              "        text-align: right;\n",
              "    }\n",
              "</style>\n",
              "<table border=\"1\" class=\"dataframe\">\n",
              "  <thead>\n",
              "    <tr style=\"text-align: right;\">\n",
              "      <th></th>\n",
              "      <th>High</th>\n",
              "      <th>Low</th>\n",
              "      <th>Open</th>\n",
              "      <th>Close</th>\n",
              "      <th>Volume</th>\n",
              "      <th>Adj Close</th>\n",
              "      <th>company_name</th>\n",
              "    </tr>\n",
              "    <tr>\n",
              "      <th>Date</th>\n",
              "      <th></th>\n",
              "      <th></th>\n",
              "      <th></th>\n",
              "      <th></th>\n",
              "      <th></th>\n",
              "      <th></th>\n",
              "      <th></th>\n",
              "    </tr>\n",
              "  </thead>\n",
              "  <tbody>\n",
              "    <tr>\n",
              "      <th>2020-06-05</th>\n",
              "      <td>711.700012</td>\n",
              "      <td>700.599976</td>\n",
              "      <td>707.000000</td>\n",
              "      <td>703.549988</td>\n",
              "      <td>7718679.0</td>\n",
              "      <td>688.641296</td>\n",
              "      <td>INFY.NS</td>\n",
              "    </tr>\n",
              "    <tr>\n",
              "      <th>2020-06-08</th>\n",
              "      <td>725.799988</td>\n",
              "      <td>704.000000</td>\n",
              "      <td>707.650024</td>\n",
              "      <td>720.849976</td>\n",
              "      <td>10719105.0</td>\n",
              "      <td>705.574646</td>\n",
              "      <td>INFY.NS</td>\n",
              "    </tr>\n",
              "    <tr>\n",
              "      <th>2020-06-09</th>\n",
              "      <td>729.599976</td>\n",
              "      <td>715.049988</td>\n",
              "      <td>720.000000</td>\n",
              "      <td>717.599976</td>\n",
              "      <td>10078029.0</td>\n",
              "      <td>702.393494</td>\n",
              "      <td>INFY.NS</td>\n",
              "    </tr>\n",
              "    <tr>\n",
              "      <th>2020-06-10</th>\n",
              "      <td>719.450012</td>\n",
              "      <td>709.200012</td>\n",
              "      <td>715.000000</td>\n",
              "      <td>715.849976</td>\n",
              "      <td>7263049.0</td>\n",
              "      <td>700.680603</td>\n",
              "      <td>INFY.NS</td>\n",
              "    </tr>\n",
              "    <tr>\n",
              "      <th>2020-06-11</th>\n",
              "      <td>713.400024</td>\n",
              "      <td>700.250000</td>\n",
              "      <td>712.000000</td>\n",
              "      <td>703.950012</td>\n",
              "      <td>8825715.0</td>\n",
              "      <td>689.032776</td>\n",
              "      <td>INFY.NS</td>\n",
              "    </tr>\n",
              "    <tr>\n",
              "      <th>2020-06-12</th>\n",
              "      <td>695.150024</td>\n",
              "      <td>675.500000</td>\n",
              "      <td>675.799988</td>\n",
              "      <td>692.049988</td>\n",
              "      <td>9795316.0</td>\n",
              "      <td>677.384949</td>\n",
              "      <td>INFY.NS</td>\n",
              "    </tr>\n",
              "    <tr>\n",
              "      <th>2020-06-15</th>\n",
              "      <td>704.400024</td>\n",
              "      <td>685.250000</td>\n",
              "      <td>693.000000</td>\n",
              "      <td>687.549988</td>\n",
              "      <td>7857344.0</td>\n",
              "      <td>672.980286</td>\n",
              "      <td>INFY.NS</td>\n",
              "    </tr>\n",
              "    <tr>\n",
              "      <th>2020-06-16</th>\n",
              "      <td>712.000000</td>\n",
              "      <td>699.150024</td>\n",
              "      <td>702.000000</td>\n",
              "      <td>701.200012</td>\n",
              "      <td>10131760.0</td>\n",
              "      <td>686.341064</td>\n",
              "      <td>INFY.NS</td>\n",
              "    </tr>\n",
              "    <tr>\n",
              "      <th>2020-06-17</th>\n",
              "      <td>710.299988</td>\n",
              "      <td>698.000000</td>\n",
              "      <td>699.900024</td>\n",
              "      <td>703.650024</td>\n",
              "      <td>7291916.0</td>\n",
              "      <td>688.739136</td>\n",
              "      <td>INFY.NS</td>\n",
              "    </tr>\n",
              "    <tr>\n",
              "      <th>2020-06-18</th>\n",
              "      <td>716.599976</td>\n",
              "      <td>706.000000</td>\n",
              "      <td>708.200012</td>\n",
              "      <td>713.900024</td>\n",
              "      <td>6670195.0</td>\n",
              "      <td>698.771912</td>\n",
              "      <td>INFY.NS</td>\n",
              "    </tr>\n",
              "  </tbody>\n",
              "</table>\n",
              "</div>"
            ],
            "text/plain": [
              "                  High         Low  ...   Adj Close  company_name\n",
              "Date                                ...                          \n",
              "2020-06-05  711.700012  700.599976  ...  688.641296       INFY.NS\n",
              "2020-06-08  725.799988  704.000000  ...  705.574646       INFY.NS\n",
              "2020-06-09  729.599976  715.049988  ...  702.393494       INFY.NS\n",
              "2020-06-10  719.450012  709.200012  ...  700.680603       INFY.NS\n",
              "2020-06-11  713.400024  700.250000  ...  689.032776       INFY.NS\n",
              "2020-06-12  695.150024  675.500000  ...  677.384949       INFY.NS\n",
              "2020-06-15  704.400024  685.250000  ...  672.980286       INFY.NS\n",
              "2020-06-16  712.000000  699.150024  ...  686.341064       INFY.NS\n",
              "2020-06-17  710.299988  698.000000  ...  688.739136       INFY.NS\n",
              "2020-06-18  716.599976  706.000000  ...  698.771912       INFY.NS\n",
              "\n",
              "[10 rows x 7 columns]"
            ]
          },
          "metadata": {
            "tags": []
          },
          "execution_count": 54
        }
      ]
    },
    {
      "cell_type": "code",
      "metadata": {
        "colab": {
          "base_uri": "https://localhost:8080/",
          "height": 233
        },
        "id": "JK-jt3fZ_F4A",
        "outputId": "668e23f9-b6d0-4b81-b34a-1c1627cdb1b4"
      },
      "source": [
        "# Summary Stats\n",
        "# AAPL.describe()\n",
        "BHARTIARTL.head()"
      ],
      "execution_count": null,
      "outputs": [
        {
          "output_type": "execute_result",
          "data": {
            "text/html": [
              "<div>\n",
              "<style scoped>\n",
              "    .dataframe tbody tr th:only-of-type {\n",
              "        vertical-align: middle;\n",
              "    }\n",
              "\n",
              "    .dataframe tbody tr th {\n",
              "        vertical-align: top;\n",
              "    }\n",
              "\n",
              "    .dataframe thead th {\n",
              "        text-align: right;\n",
              "    }\n",
              "</style>\n",
              "<table border=\"1\" class=\"dataframe\">\n",
              "  <thead>\n",
              "    <tr style=\"text-align: right;\">\n",
              "      <th></th>\n",
              "      <th>High</th>\n",
              "      <th>Low</th>\n",
              "      <th>Open</th>\n",
              "      <th>Close</th>\n",
              "      <th>Volume</th>\n",
              "      <th>Adj Close</th>\n",
              "      <th>company_name</th>\n",
              "    </tr>\n",
              "    <tr>\n",
              "      <th>Date</th>\n",
              "      <th></th>\n",
              "      <th></th>\n",
              "      <th></th>\n",
              "      <th></th>\n",
              "      <th></th>\n",
              "      <th></th>\n",
              "      <th></th>\n",
              "    </tr>\n",
              "  </thead>\n",
              "  <tbody>\n",
              "    <tr>\n",
              "      <th>2020-06-05</th>\n",
              "      <td>590.000000</td>\n",
              "      <td>567.450012</td>\n",
              "      <td>584.0</td>\n",
              "      <td>584.349976</td>\n",
              "      <td>47873027.0</td>\n",
              "      <td>582.259094</td>\n",
              "      <td>BHARTIARTL.NS</td>\n",
              "    </tr>\n",
              "    <tr>\n",
              "      <th>2020-06-08</th>\n",
              "      <td>593.700012</td>\n",
              "      <td>579.200012</td>\n",
              "      <td>588.0</td>\n",
              "      <td>585.150024</td>\n",
              "      <td>20429990.0</td>\n",
              "      <td>583.056274</td>\n",
              "      <td>BHARTIARTL.NS</td>\n",
              "    </tr>\n",
              "    <tr>\n",
              "      <th>2020-06-09</th>\n",
              "      <td>591.650024</td>\n",
              "      <td>565.700012</td>\n",
              "      <td>580.0</td>\n",
              "      <td>567.799988</td>\n",
              "      <td>14938972.0</td>\n",
              "      <td>565.768311</td>\n",
              "      <td>BHARTIARTL.NS</td>\n",
              "    </tr>\n",
              "    <tr>\n",
              "      <th>2020-06-10</th>\n",
              "      <td>576.000000</td>\n",
              "      <td>563.049988</td>\n",
              "      <td>571.0</td>\n",
              "      <td>567.099976</td>\n",
              "      <td>19130270.0</td>\n",
              "      <td>565.070801</td>\n",
              "      <td>BHARTIARTL.NS</td>\n",
              "    </tr>\n",
              "    <tr>\n",
              "      <th>2020-06-11</th>\n",
              "      <td>573.799988</td>\n",
              "      <td>546.700012</td>\n",
              "      <td>570.0</td>\n",
              "      <td>551.849976</td>\n",
              "      <td>27290666.0</td>\n",
              "      <td>549.875366</td>\n",
              "      <td>BHARTIARTL.NS</td>\n",
              "    </tr>\n",
              "  </tbody>\n",
              "</table>\n",
              "</div>"
            ],
            "text/plain": [
              "                  High         Low  ...   Adj Close   company_name\n",
              "Date                                ...                           \n",
              "2020-06-05  590.000000  567.450012  ...  582.259094  BHARTIARTL.NS\n",
              "2020-06-08  593.700012  579.200012  ...  583.056274  BHARTIARTL.NS\n",
              "2020-06-09  591.650024  565.700012  ...  565.768311  BHARTIARTL.NS\n",
              "2020-06-10  576.000000  563.049988  ...  565.070801  BHARTIARTL.NS\n",
              "2020-06-11  573.799988  546.700012  ...  549.875366  BHARTIARTL.NS\n",
              "\n",
              "[5 rows x 7 columns]"
            ]
          },
          "metadata": {
            "tags": []
          },
          "execution_count": 55
        }
      ]
    },
    {
      "cell_type": "code",
      "metadata": {
        "colab": {
          "base_uri": "https://localhost:8080/"
        },
        "id": "_nt5jSDF_Lxh",
        "outputId": "8e9e4e61-923c-4c23-cd7b-a15c5d017116"
      },
      "source": [
        "# General info\n",
        "INFY.info()"
      ],
      "execution_count": null,
      "outputs": [
        {
          "output_type": "stream",
          "text": [
            "<class 'pandas.core.frame.DataFrame'>\n",
            "DatetimeIndex: 250 entries, 2020-06-05 to 2021-06-04\n",
            "Data columns (total 7 columns):\n",
            " #   Column        Non-Null Count  Dtype  \n",
            "---  ------        --------------  -----  \n",
            " 0   High          250 non-null    float64\n",
            " 1   Low           250 non-null    float64\n",
            " 2   Open          250 non-null    float64\n",
            " 3   Close         250 non-null    float64\n",
            " 4   Volume        250 non-null    float64\n",
            " 5   Adj Close     250 non-null    float64\n",
            " 6   company_name  250 non-null    object \n",
            "dtypes: float64(6), object(1)\n",
            "memory usage: 15.6+ KB\n"
          ],
          "name": "stdout"
        }
      ]
    },
    {
      "cell_type": "code",
      "metadata": {
        "colab": {
          "base_uri": "https://localhost:8080/",
          "height": 664
        },
        "id": "QPrYBiGF_TlX",
        "outputId": "51338977-e64f-4ea1-aa39-d70992df26de"
      },
      "source": [
        "# Let's see a historical view of the closing price\n",
        "\n",
        "\n",
        "plt.figure(figsize=(15, 10))\n",
        "plt.subplots_adjust(top=1.25, bottom=1.2)\n",
        "\n",
        "for i, company in enumerate(company_list, 1):\n",
        "    plt.subplot(3, 2, i)\n",
        "    company['Adj Close'].plot()\n",
        "    plt.ylabel('Adj Close')\n",
        "    plt.xlabel(None)\n",
        "    plt.title(f\"Closing Price of {tech_list[i - 1]}\")\n",
        "    \n",
        "plt.tight_layout()"
      ],
      "execution_count": null,
      "outputs": [
        {
          "output_type": "display_data",
          "data": {
            "image/png": "[encoded data removed]",
            "text/plain": [
              "<Figure size 1080x720 with 5 Axes>"
            ]
          },
          "metadata": {
            "tags": [],
            "needs_background": "light"
          }
        }
      ]
    },
    {
      "cell_type": "code",
      "metadata": {
        "colab": {
          "base_uri": "https://localhost:8080/",
          "height": 668
        },
        "id": "xxcZVK4o_ZUj",
        "outputId": "32a243ac-41a5-46dd-800f-ebfc62226ae5"
      },
      "source": [
        "# Now let's plot the total volume of stock being traded each day\n",
        "plt.figure(figsize=(15, 10))\n",
        "plt.subplots_adjust(top=1.25, bottom=1.2)\n",
        "\n",
        "for i, company in enumerate(company_list, 1):\n",
        "    plt.subplot(3, 2, i)\n",
        "    company['Volume'].plot()\n",
        "    plt.ylabel('Volume')\n",
        "    plt.xlabel(None)\n",
        "    plt.title(f\"Sales Volume for {tech[i - 1]}\")\n",
        "    \n",
        "plt.tight_layout()"
      ],
      "execution_count": null,
      "outputs": [
        {
          "output_type": "display_data",
          "data": {
            "image/png": "[encoded data removed]",
            "text/plain": [
              "<Figure size 1080x720 with 5 Axes>"
            ]
          },
          "metadata": {
            "tags": [],
            "needs_background": "light"
          }
        }
      ]
    },
    {
      "cell_type": "code",
      "metadata": {
        "id": "PNc8Q8Ry_fMV"
      },
      "source": [
        "# ma_day = [9, 21, 200]\n",
        "ma_day = [9, 21]\n",
        "\n",
        "for ma in ma_day:\n",
        "    for company in company_list:\n",
        "        column_name = f\"MA for {ma} days\"\n",
        "        company[column_name] = company['Adj Close'].rolling(ma).mean()"
      ],
      "execution_count": null,
      "outputs": []
    },
    {
      "cell_type": "code",
      "metadata": {
        "id": "4Lwc1mpl_lM-",
        "colab": {
          "base_uri": "https://localhost:8080/",
          "height": 310
        },
        "outputId": "cc7121b2-7211-4c7f-89ab-e3120a92cae0"
      },
      "source": [
        "# fig, axes = plt.subplots(nrows=3, ncols=2)\n",
        "\n",
        "# fig, axes = plt.subplots(nrows=1, ncols=1)\n",
        "# fig.set_figheight(10)\n",
        "# fig.set_figwidth(12)\n",
        "\n",
        "plt.figure(figsize=(50,50))\n",
        "\n",
        "\n",
        "# INFY[['Adj Close', 'MA for 9 days', 'MA for 21 days', 'MA for 200 days']].plot(ax=axes[0,0])\n",
        "# INFY[['Adj Close', 'MA for 9 days', 'MA for 21 days']].plot(ax=axes[0,0])\n",
        "INFY[['Adj Close', 'MA for 9 days', 'MA for 21 days']].plot(linewidth = 1)\n",
        "\n",
        "\n",
        "# TCS[['Adj Close', 'MA for 9 days', 'MA for 21 days']].plot(ax=axes[0, 1])\n",
        "# axes[0,1].set_title('TCS')\n",
        "\n",
        "# TECHM[['Adj Close', 'MA for 9 days', 'MA for 21 days']].plot(ax=axes[1, 0])\n",
        "# axes[1, 0].set_title('Tech Mahindra')\n",
        "\n",
        "# HCLTECH[['Adj Close', 'MA for 9 days', 'MA for 21 days']].plot(ax=axes[1, 1])\n",
        "# axes[1, 1].set_title('HCL Tech')\n",
        "\n",
        "# BHARTIARTL[['Adj Close', 'MA for 9 days', 'MA for 21 days']].plot(ax=axes[2, 0])\n",
        "# axes[2, 0].set_title('Bharti Airtel')\n",
        "\n",
        "plt.plot(data = INFY[['Adj Close', 'MA for 9 days', 'MA for 21 days']])\n",
        "plt.title('Infosys')\n",
        "plt.ylabel('Price')\n",
        "plt.savefig('books_read.png', dpi = 300, bbox_inches = 'tight')\n",
        "plt.show()\n"
      ],
      "execution_count": null,
      "outputs": [
        {
          "output_type": "display_data",
          "data": {
            "text/plain": [
              "<Figure size 3600x3600 with 0 Axes>"
            ]
          },
          "metadata": {
            "tags": []
          }
        },
        {
          "output_type": "display_data",
          "data": {
            "image/png": "[encoded data removed]",
            "text/plain": [
              "<Figure size 432x288 with 1 Axes>"
            ]
          },
          "metadata": {
            "tags": [],
            "needs_background": "light"
          }
        }
      ]
    },
    {
      "cell_type": "code",
      "metadata": {
        "colab": {
          "base_uri": "https://localhost:8080/",
          "height": 334
        },
        "id": "u4JekFvC_P8M",
        "outputId": "a5991977-534e-4494-c4f0-67c6b8d52ec0"
      },
      "source": [
        "INFY.tail(5)"
      ],
      "execution_count": null,
      "outputs": [
        {
          "output_type": "execute_result",
          "data": {
            "text/html": [
              "<div>\n",
              "<style scoped>\n",
              "    .dataframe tbody tr th:only-of-type {\n",
              "        vertical-align: middle;\n",
              "    }\n",
              "\n",
              "    .dataframe tbody tr th {\n",
              "        vertical-align: top;\n",
              "    }\n",
              "\n",
              "    .dataframe thead th {\n",
              "        text-align: right;\n",
              "    }\n",
              "</style>\n",
              "<table border=\"1\" class=\"dataframe\">\n",
              "  <thead>\n",
              "    <tr style=\"text-align: right;\">\n",
              "      <th></th>\n",
              "      <th>High</th>\n",
              "      <th>Low</th>\n",
              "      <th>Open</th>\n",
              "      <th>Close</th>\n",
              "      <th>Volume</th>\n",
              "      <th>Adj Close</th>\n",
              "      <th>company_name</th>\n",
              "      <th>MA for 9 days</th>\n",
              "      <th>MA for 21 days</th>\n",
              "    </tr>\n",
              "    <tr>\n",
              "      <th>Date</th>\n",
              "      <th></th>\n",
              "      <th></th>\n",
              "      <th></th>\n",
              "      <th></th>\n",
              "      <th></th>\n",
              "      <th></th>\n",
              "      <th></th>\n",
              "      <th></th>\n",
              "      <th></th>\n",
              "    </tr>\n",
              "  </thead>\n",
              "  <tbody>\n",
              "    <tr>\n",
              "      <th>2021-05-31</th>\n",
              "      <td>1401.500000</td>\n",
              "      <td>1383.000000</td>\n",
              "      <td>1401.500000</td>\n",
              "      <td>1393.750000</td>\n",
              "      <td>4429904.0</td>\n",
              "      <td>1393.750000</td>\n",
              "      <td>INFY.NS</td>\n",
              "      <td>1357.989299</td>\n",
              "      <td>1339.273647</td>\n",
              "    </tr>\n",
              "    <tr>\n",
              "      <th>2021-06-01</th>\n",
              "      <td>1401.000000</td>\n",
              "      <td>1378.650024</td>\n",
              "      <td>1400.000000</td>\n",
              "      <td>1387.199951</td>\n",
              "      <td>4791325.0</td>\n",
              "      <td>1387.199951</td>\n",
              "      <td>INFY.NS</td>\n",
              "      <td>1365.153022</td>\n",
              "      <td>1341.526443</td>\n",
              "    </tr>\n",
              "    <tr>\n",
              "      <th>2021-06-02</th>\n",
              "      <td>1391.949951</td>\n",
              "      <td>1365.000000</td>\n",
              "      <td>1380.750000</td>\n",
              "      <td>1378.650024</td>\n",
              "      <td>9272276.0</td>\n",
              "      <td>1378.650024</td>\n",
              "      <td>INFY.NS</td>\n",
              "      <td>1371.113919</td>\n",
              "      <td>1343.480451</td>\n",
              "    </tr>\n",
              "    <tr>\n",
              "      <th>2021-06-03</th>\n",
              "      <td>1399.000000</td>\n",
              "      <td>1377.050049</td>\n",
              "      <td>1388.099976</td>\n",
              "      <td>1389.650024</td>\n",
              "      <td>5115645.0</td>\n",
              "      <td>1389.650024</td>\n",
              "      <td>INFY.NS</td>\n",
              "      <td>1376.626180</td>\n",
              "      <td>1347.025327</td>\n",
              "    </tr>\n",
              "    <tr>\n",
              "      <th>2021-06-04</th>\n",
              "      <td>1396.900024</td>\n",
              "      <td>1377.650024</td>\n",
              "      <td>1393.949951</td>\n",
              "      <td>1385.650024</td>\n",
              "      <td>4194328.0</td>\n",
              "      <td>1385.650024</td>\n",
              "      <td>INFY.NS</td>\n",
              "      <td>1382.403008</td>\n",
              "      <td>1349.809687</td>\n",
              "    </tr>\n",
              "  </tbody>\n",
              "</table>\n",
              "</div>"
            ],
            "text/plain": [
              "                   High          Low  ...  MA for 9 days  MA for 21 days\n",
              "Date                                  ...                               \n",
              "2021-05-31  1401.500000  1383.000000  ...    1357.989299     1339.273647\n",
              "2021-06-01  1401.000000  1378.650024  ...    1365.153022     1341.526443\n",
              "2021-06-02  1391.949951  1365.000000  ...    1371.113919     1343.480451\n",
              "2021-06-03  1399.000000  1377.050049  ...    1376.626180     1347.025327\n",
              "2021-06-04  1396.900024  1377.650024  ...    1382.403008     1349.809687\n",
              "\n",
              "[5 rows x 9 columns]"
            ]
          },
          "metadata": {
            "tags": []
          },
          "execution_count": 61
        }
      ]
    },
    {
      "cell_type": "code",
      "metadata": {
        "colab": {
          "base_uri": "https://localhost:8080/"
        },
        "id": "k5_XaW_TFfLY",
        "outputId": "171bac40-3d52-438b-c4a2-df018746133a"
      },
      "source": [
        "import copy\n",
        "INFY2DecisionTree = []\n",
        "INFY2DecisionTree = copy.deepcopy(INFY)\n",
        "\n",
        "TCS2DecisionTree = []\n",
        "TCS2DecisionTree = copy.deepcopy(TCS)\n",
        "\n",
        "TECHM2DecisionTree = []\n",
        "TECHM2DecisionTree = copy.deepcopy(TECHM)\n",
        "\n",
        "HCLTECH2DecisionTree = []\n",
        "HCLTECH2DecisionTree = copy.deepcopy(HCLTECH)\n",
        "\n",
        "BHARTIARTL2DecisionTree = []\n",
        "BHARTIARTL2DecisionTree = copy.deepcopy(BHARTIARTL)\n",
        "\n",
        "INFY2DecisionTree = INFY2DecisionTree[['High', 'Low', 'Open', 'Close', 'Volume']]\n",
        "TCS2DecisionTree = TCS2DecisionTree[['High', 'Low', 'Open', 'Close', 'Volume']]\n",
        "TECHM2DecisionTree = TECHM2DecisionTree[['High', 'Low', 'Open', 'Close', 'Volume']]\n",
        "HCLTECH2DecisionTree = HCLTECH2DecisionTree[['High', 'Low', 'Open', 'Close', 'Volume']]\n",
        "BHARTIARTL2DecisionTree = BHARTIARTL2DecisionTree[['High', 'Low', 'Open', 'Close', 'Volume']]\n",
        "\n",
        "\n",
        "print(INFY2DecisionTree)\n",
        "len(INFY)"
      ],
      "execution_count": null,
      "outputs": [
        {
          "output_type": "stream",
          "text": [
            "                   High          Low         Open        Close      Volume\n",
            "Date                                                                      \n",
            "2020-06-05   711.700012   700.599976   707.000000   703.549988   7718679.0\n",
            "2020-06-08   725.799988   704.000000   707.650024   720.849976  10719105.0\n",
            "2020-06-09   729.599976   715.049988   720.000000   717.599976  10078029.0\n",
            "2020-06-10   719.450012   709.200012   715.000000   715.849976   7263049.0\n",
            "2020-06-11   713.400024   700.250000   712.000000   703.950012   8825715.0\n",
            "...                 ...          ...          ...          ...         ...\n",
            "2021-05-31  1401.500000  1383.000000  1401.500000  1393.750000   4429904.0\n",
            "2021-06-01  1401.000000  1378.650024  1400.000000  1387.199951   4791325.0\n",
            "2021-06-02  1391.949951  1365.000000  1380.750000  1378.650024   9272276.0\n",
            "2021-06-03  1399.000000  1377.050049  1388.099976  1389.650024   5115645.0\n",
            "2021-06-04  1396.900024  1377.650024  1393.949951  1385.650024   4194328.0\n",
            "\n",
            "[250 rows x 5 columns]\n"
          ],
          "name": "stdout"
        },
        {
          "output_type": "execute_result",
          "data": {
            "text/plain": [
              "250"
            ]
          },
          "metadata": {
            "tags": []
          },
          "execution_count": 62
        }
      ]
    },
    {
      "cell_type": "code",
      "metadata": {
        "colab": {
          "base_uri": "https://localhost:8080/"
        },
        "id": "GwRw1DjcLgWH",
        "outputId": "3e8cd66e-e312-44b5-8bfb-87594523acc9"
      },
      "source": [
        "print(INFY[['MA for 21 days']])"
      ],
      "execution_count": null,
      "outputs": [
        {
          "output_type": "stream",
          "text": [
            "            MA for 21 days\n",
            "Date                      \n",
            "2020-06-05             NaN\n",
            "2020-06-08             NaN\n",
            "2020-06-09             NaN\n",
            "2020-06-10             NaN\n",
            "2020-06-11             NaN\n",
            "...                    ...\n",
            "2021-05-31     1339.273647\n",
            "2021-06-01     1341.526443\n",
            "2021-06-02     1343.480451\n",
            "2021-06-03     1347.025327\n",
            "2021-06-04     1349.809687\n",
            "\n",
            "[250 rows x 1 columns]\n"
          ],
          "name": "stdout"
        }
      ]
    },
    {
      "cell_type": "code",
      "metadata": {
        "colab": {
          "base_uri": "https://localhost:8080/"
        },
        "id": "zgbb29SQOJaa",
        "outputId": "b4f14f11-b94f-41df-d2f2-c6da453d3de0"
      },
      "source": [
        "isinstance(INFY2DecisionTree, pd.DataFrame)"
      ],
      "execution_count": null,
      "outputs": [
        {
          "output_type": "execute_result",
          "data": {
            "text/plain": [
              "True"
            ]
          },
          "metadata": {
            "tags": []
          },
          "execution_count": 64
        }
      ]
    },
    {
      "cell_type": "code",
      "metadata": {
        "colab": {
          "base_uri": "https://localhost:8080/"
        },
        "id": "k0I-0TqwPGdy",
        "outputId": "086acc07-ff31-4a6a-8621-8b1ca5cdfc93"
      },
      "source": [
        "for x in INFY.itertuples():\n",
        "  print(x[8])"
      ],
      "execution_count": null,
      "outputs": [
        {
          "output_type": "stream",
          "text": [
            "nan\n",
            "nan\n",
            "nan\n",
            "nan\n",
            "nan\n",
            "nan\n",
            "nan\n",
            "nan\n",
            "690.1964721679688\n",
            "691.3220960828993\n",
            "689.6581217447916\n",
            "688.1464165581597\n",
            "688.6684502495659\n",
            "689.7777709960938\n",
            "690.696763780382\n",
            "697.2928602430555\n",
            "700.6153700086805\n",
            "704.1282145182291\n",
            "706.0858357747396\n",
            "711.6378580729166\n",
            "718.0544908311632\n",
            "722.7690836588541\n",
            "731.4696112738716\n",
            "739.5393541124132\n",
            "743.1826917860243\n",
            "748.6313951280382\n",
            "755.2764146592882\n",
            "760.8610636393229\n",
            "768.9471232096354\n",
            "785.0757242838541\n",
            "800.2092081705729\n",
            "815.4514431423611\n",
            "833.0754462348091\n",
            "847.8881022135416\n",
            "861.602308485243\n",
            "875.2838880750868\n",
            "893.2504814995659\n",
            "907.5954657660591\n",
            "912.2883097330729\n",
            "918.6288180881077\n",
            "922.076402452257\n",
            "924.2678561740452\n",
            "927.7426215277778\n",
            "931.7394341362847\n",
            "936.9597439236111\n",
            "937.2261962890625\n",
            "935.9754977756077\n",
            "935.3555908203125\n",
            "934.6486748589409\n",
            "933.039076063368\n",
            "932.6801689995659\n",
            "933.5121595594618\n",
            "935.9972466362847\n",
            "934.7411159939236\n",
            "935.2033284505209\n",
            "934.9259982638889\n",
            "934.8118082682291\n",
            "932.9792548285591\n",
            "932.9357503255209\n",
            "932.2233954535591\n",
            "929.8035617404514\n",
            "925.5674913194445\n",
            "920.6571384006077\n",
            "917.2693752712673\n",
            "915.8283487955729\n",
            "912.7559678819445\n",
            "911.3366970486111\n",
            "910.0859917534722\n",
            "907.9869927300347\n",
            "908.509019639757\n",
            "910.3687608506945\n",
            "917.3563707139757\n",
            "923.7131890190972\n",
            "930.9128824869791\n",
            "940.9021742078993\n",
            "949.2873128255209\n",
            "956.9655354817709\n",
            "965.6388685438368\n",
            "974.3067694769966\n",
            "977.5368381076389\n",
            "981.1312323676216\n",
            "984.1709798177084\n",
            "984.959459092882\n",
            "984.6603800455729\n",
            "986.3461100260416\n",
            "990.5658637152778\n",
            "995.8133748372396\n",
            "1000.9031914605034\n",
            "1013.7690904405382\n",
            "1024.1390313042534\n",
            "1037.3746948242188\n",
            "1053.5576917860244\n",
            "1067.5600992838542\n",
            "1077.4134385850693\n",
            "1085.9834526909722\n",
            "1093.6127251519097\n",
            "1101.3289930555557\n",
            "1107.2725423177083\n",
            "1109.6923828125\n",
            "1109.9597846137153\n",
            "1106.327365451389\n",
            "1102.5827229817708\n",
            "1100.3929036458333\n",
            "1095.9226481119792\n",
            "1090.0599636501736\n",
            "1084.2218424479167\n",
            "1076.1319444444443\n",
            "1073.5926649305557\n",
            "1071.559054904514\n",
            "1071.5920274522568\n",
            "1076.6156005859375\n",
            "1078.2095133463542\n",
            "1083.4474419487847\n",
            "1089.7296549479167\n",
            "1095.4347466362847\n",
            "1102.1566433376736\n",
            "1103.981418185764\n",
            "1103.1844618055557\n",
            "1102.1511637369792\n",
            "1102.5139024522568\n",
            "1107.9002278645833\n",
            "1107.147243923611\n",
            "1106.6470811631943\n",
            "1103.9868977864583\n",
            "1105.5423312717014\n",
            "1108.8785400390625\n",
            "1112.1432969835068\n",
            "1115.583957248264\n",
            "1115.9851888020833\n",
            "1117.4471842447917\n",
            "1123.9932047526042\n",
            "1129.9896104600693\n",
            "1136.9368625217014\n",
            "1139.8718668619792\n",
            "1141.3778347439236\n",
            "1145.6923828125\n",
            "1148.3910319010417\n",
            "1153.4805636935764\n",
            "1156.1132676866318\n",
            "1161.0928683810764\n",
            "1170.4694688585068\n",
            "1178.477511935764\n",
            "1186.8043212890625\n",
            "1197.3241509331597\n",
            "1206.2390814887153\n",
            "1216.8578423394097\n",
            "1224.6240234375\n",
            "1236.8201904296875\n",
            "1244.877685546875\n",
            "1248.0710042317708\n",
            "1250.9400363498264\n",
            "1258.8326416015625\n",
            "1272.6721733940972\n",
            "1286.4072808159722\n",
            "1300.8459065755208\n",
            "1312.943142361111\n",
            "1319.1758761935764\n",
            "1321.1820068359375\n",
            "1324.9799126519097\n",
            "1333.4771050347222\n",
            "1336.5110270182292\n",
            "1332.6251898871528\n",
            "1327.4971923828125\n",
            "1318.0271674262153\n",
            "1307.6612548828125\n",
            "1296.0202229817708\n",
            "1290.3975694444443\n",
            "1285.4069688585068\n",
            "1279.3830973307292\n",
            "1272.7491319444443\n",
            "1265.1917860243057\n",
            "1262.8229166666667\n",
            "1263.3230794270833\n",
            "1265.5545518663193\n",
            "1271.4465196397568\n",
            "1276.8218451605903\n",
            "1281.04296875\n",
            "1281.6750352647568\n",
            "1281.889404296875\n",
            "1284.1263699001736\n",
            "1282.77978515625\n",
            "1278.3443060980903\n",
            "1275.0300699869792\n",
            "1273.0129530164932\n",
            "1269.1381022135417\n",
            "1262.9438340928818\n",
            "1260.37158203125\n",
            "1262.9218343098958\n",
            "1268.5390082465278\n",
            "1272.831570095486\n",
            "1278.492702907986\n",
            "1286.1215006510417\n",
            "1293.9536539713542\n",
            "1304.2426215277778\n",
            "1317.6039903428818\n",
            "1329.3219807942708\n",
            "1338.061008029514\n",
            "1342.8372395833333\n",
            "1343.5792371961807\n",
            "1346.6296522352432\n",
            "1350.4825168185764\n",
            "1353.3405626085068\n",
            "1351.7576361762153\n",
            "1347.2452256944443\n",
            "1343.134033203125\n",
            "1343.2769368489583\n",
            "1341.193874782986\n",
            "1346.4812554253472\n",
            "1353.6758490668403\n",
            "1358.1003282335068\n",
            "1364.5474039713542\n",
            "1374.011935763889\n",
            "1385.8013780381943\n",
            "1395.6451687282986\n",
            "1396.947781032986\n",
            "1396.1453179253472\n",
            "1392.6881781684028\n",
            "1387.4832356770833\n",
            "1380.9207085503472\n",
            "1372.2256537543403\n",
            "1360.5681287977432\n",
            "1349.8504503038193\n",
            "1341.3587510850693\n",
            "1336.8353407118057\n",
            "1336.3516710069443\n",
            "1336.4176296657986\n",
            "1335.2634141710068\n",
            "1332.8505723741318\n",
            "1331.7953016493057\n",
            "1334.8512098524307\n",
            "1335.8405354817708\n",
            "1334.8567030164932\n",
            "1332.0701090494792\n",
            "1328.8438178168403\n",
            "1324.6721733940972\n",
            "1322.182373046875\n",
            "1323.3475748697917\n",
            "1322.8529052734375\n",
            "1320.401584201389\n",
            "1320.615939670139\n",
            "1321.5503065321182\n",
            "1324.9524739583333\n",
            "1332.6746961805557\n",
            "1342.1117485894097\n",
            "1350.4275716145833\n",
            "1357.9892985026042\n",
            "1365.1530219184028\n",
            "1371.1139187282986\n",
            "1376.6261800130208\n",
            "1382.4030083550347\n"
          ],
          "name": "stdout"
        }
      ]
    },
    {
      "cell_type": "code",
      "metadata": {
        "colab": {
          "base_uri": "https://localhost:8080/",
          "height": 446
        },
        "id": "iip_PcOcMjCy",
        "outputId": "ffce2e67-8864-4ae6-979d-a383b3f08739"
      },
      "source": [
        "INFY2DecisionTree['Target'] = ['YES' if x[8] >= x[9] else 'NO' for x in INFY.itertuples()]\n",
        "TCS2DecisionTree['Target'] = ['YES' if x[8] >= x[9] else 'NO' for x in TCS.itertuples()]\n",
        "TECHM2DecisionTree['Target'] = ['YES' if x[8] >= x[9] else 'NO' for x in TECHM.itertuples()]\n",
        "HCLTECH2DecisionTree['Target'] = ['YES' if x[8] >= x[9] else 'NO' for x in HCLTECH.itertuples()]\n",
        "BHARTIARTL2DecisionTree['Target'] = ['YES' if x[8] >= x[9] else 'NO' for x in BHARTIARTL.itertuples()]\n",
        "\n",
        "# INFY2DecisionTree['Target'] = np.where(INFY['MA for 9 days'] >= INFY['MA for 21 days'])\n",
        "#                      , 'YES', 'No')\n",
        "\n",
        "INFY2DecisionTree"
      ],
      "execution_count": null,
      "outputs": [
        {
          "output_type": "execute_result",
          "data": {
            "text/html": [
              "<div>\n",
              "<style scoped>\n",
              "    .dataframe tbody tr th:only-of-type {\n",
              "        vertical-align: middle;\n",
              "    }\n",
              "\n",
              "    .dataframe tbody tr th {\n",
              "        vertical-align: top;\n",
              "    }\n",
              "\n",
              "    .dataframe thead th {\n",
              "        text-align: right;\n",
              "    }\n",
              "</style>\n",
              "<table border=\"1\" class=\"dataframe\">\n",
              "  <thead>\n",
              "    <tr style=\"text-align: right;\">\n",
              "      <th></th>\n",
              "      <th>High</th>\n",
              "      <th>Low</th>\n",
              "      <th>Open</th>\n",
              "      <th>Close</th>\n",
              "      <th>Volume</th>\n",
              "      <th>Target</th>\n",
              "    </tr>\n",
              "    <tr>\n",
              "      <th>Date</th>\n",
              "      <th></th>\n",
              "      <th></th>\n",
              "      <th></th>\n",
              "      <th></th>\n",
              "      <th></th>\n",
              "      <th></th>\n",
              "    </tr>\n",
              "  </thead>\n",
              "  <tbody>\n",
              "    <tr>\n",
              "      <th>2020-06-05</th>\n",
              "      <td>711.700012</td>\n",
              "      <td>700.599976</td>\n",
              "      <td>707.000000</td>\n",
              "      <td>703.549988</td>\n",
              "      <td>7718679.0</td>\n",
              "      <td>NO</td>\n",
              "    </tr>\n",
              "    <tr>\n",
              "      <th>2020-06-08</th>\n",
              "      <td>725.799988</td>\n",
              "      <td>704.000000</td>\n",
              "      <td>707.650024</td>\n",
              "      <td>720.849976</td>\n",
              "      <td>10719105.0</td>\n",
              "      <td>NO</td>\n",
              "    </tr>\n",
              "    <tr>\n",
              "      <th>2020-06-09</th>\n",
              "      <td>729.599976</td>\n",
              "      <td>715.049988</td>\n",
              "      <td>720.000000</td>\n",
              "      <td>717.599976</td>\n",
              "      <td>10078029.0</td>\n",
              "      <td>NO</td>\n",
              "    </tr>\n",
              "    <tr>\n",
              "      <th>2020-06-10</th>\n",
              "      <td>719.450012</td>\n",
              "      <td>709.200012</td>\n",
              "      <td>715.000000</td>\n",
              "      <td>715.849976</td>\n",
              "      <td>7263049.0</td>\n",
              "      <td>NO</td>\n",
              "    </tr>\n",
              "    <tr>\n",
              "      <th>2020-06-11</th>\n",
              "      <td>713.400024</td>\n",
              "      <td>700.250000</td>\n",
              "      <td>712.000000</td>\n",
              "      <td>703.950012</td>\n",
              "      <td>8825715.0</td>\n",
              "      <td>NO</td>\n",
              "    </tr>\n",
              "    <tr>\n",
              "      <th>...</th>\n",
              "      <td>...</td>\n",
              "      <td>...</td>\n",
              "      <td>...</td>\n",
              "      <td>...</td>\n",
              "      <td>...</td>\n",
              "      <td>...</td>\n",
              "    </tr>\n",
              "    <tr>\n",
              "      <th>2021-05-31</th>\n",
              "      <td>1401.500000</td>\n",
              "      <td>1383.000000</td>\n",
              "      <td>1401.500000</td>\n",
              "      <td>1393.750000</td>\n",
              "      <td>4429904.0</td>\n",
              "      <td>YES</td>\n",
              "    </tr>\n",
              "    <tr>\n",
              "      <th>2021-06-01</th>\n",
              "      <td>1401.000000</td>\n",
              "      <td>1378.650024</td>\n",
              "      <td>1400.000000</td>\n",
              "      <td>1387.199951</td>\n",
              "      <td>4791325.0</td>\n",
              "      <td>YES</td>\n",
              "    </tr>\n",
              "    <tr>\n",
              "      <th>2021-06-02</th>\n",
              "      <td>1391.949951</td>\n",
              "      <td>1365.000000</td>\n",
              "      <td>1380.750000</td>\n",
              "      <td>1378.650024</td>\n",
              "      <td>9272276.0</td>\n",
              "      <td>YES</td>\n",
              "    </tr>\n",
              "    <tr>\n",
              "      <th>2021-06-03</th>\n",
              "      <td>1399.000000</td>\n",
              "      <td>1377.050049</td>\n",
              "      <td>1388.099976</td>\n",
              "      <td>1389.650024</td>\n",
              "      <td>5115645.0</td>\n",
              "      <td>YES</td>\n",
              "    </tr>\n",
              "    <tr>\n",
              "      <th>2021-06-04</th>\n",
              "      <td>1396.900024</td>\n",
              "      <td>1377.650024</td>\n",
              "      <td>1393.949951</td>\n",
              "      <td>1385.650024</td>\n",
              "      <td>4194328.0</td>\n",
              "      <td>YES</td>\n",
              "    </tr>\n",
              "  </tbody>\n",
              "</table>\n",
              "<p>250 rows × 6 columns</p>\n",
              "</div>"
            ],
            "text/plain": [
              "                   High          Low  ...      Volume  Target\n",
              "Date                                  ...                    \n",
              "2020-06-05   711.700012   700.599976  ...   7718679.0      NO\n",
              "2020-06-08   725.799988   704.000000  ...  10719105.0      NO\n",
              "2020-06-09   729.599976   715.049988  ...  10078029.0      NO\n",
              "2020-06-10   719.450012   709.200012  ...   7263049.0      NO\n",
              "2020-06-11   713.400024   700.250000  ...   8825715.0      NO\n",
              "...                 ...          ...  ...         ...     ...\n",
              "2021-05-31  1401.500000  1383.000000  ...   4429904.0     YES\n",
              "2021-06-01  1401.000000  1378.650024  ...   4791325.0     YES\n",
              "2021-06-02  1391.949951  1365.000000  ...   9272276.0     YES\n",
              "2021-06-03  1399.000000  1377.050049  ...   5115645.0     YES\n",
              "2021-06-04  1396.900024  1377.650024  ...   4194328.0     YES\n",
              "\n",
              "[250 rows x 6 columns]"
            ]
          },
          "metadata": {
            "tags": []
          },
          "execution_count": 66
        }
      ]
    },
    {
      "cell_type": "code",
      "metadata": {
        "colab": {
          "base_uri": "https://localhost:8080/"
        },
        "id": "X4MWV8GZHCRt",
        "outputId": "3902d146-af7a-4dab-8ec3-33d77e69de2d"
      },
      "source": [
        "userDuration = 30\n",
        "\n",
        "INFY2DecisionTree = INFY2DecisionTree.iloc[userDuration : , :]\n",
        "print(INFY2DecisionTree)\n",
        "\n",
        "TCS2DecisionTree = TCS2DecisionTree.iloc[userDuration : , :]\n",
        "TECHM2DecisionTree = TECHM2DecisionTree.iloc[userDuration : , :]\n",
        "HCLTECH2DecisionTree = HCLTECH2DecisionTree.iloc[userDuration : , :]\n",
        "BHARTIARTL2DecisionTree = BHARTIARTL2DecisionTree.iloc[userDuration : , :]\n",
        "\n",
        "# INFY2DecisionTree.to_csv('decision_tree_data.csv')"
      ],
      "execution_count": null,
      "outputs": [
        {
          "output_type": "stream",
          "text": [
            "                   High          Low  ...      Volume  Target\n",
            "Date                                  ...                    \n",
            "2020-07-17   919.900024   892.150024  ...  31682878.0     YES\n",
            "2020-07-20   945.000000   906.750000  ...  18421053.0     YES\n",
            "2020-07-21   949.700012   929.200012  ...  12877784.0     YES\n",
            "2020-07-22   939.000000   910.000000  ...  14354201.0     YES\n",
            "2020-07-23   915.799988   900.650024  ...  13051307.0     YES\n",
            "...                 ...          ...  ...         ...     ...\n",
            "2021-05-31  1401.500000  1383.000000  ...   4429904.0     YES\n",
            "2021-06-01  1401.000000  1378.650024  ...   4791325.0     YES\n",
            "2021-06-02  1391.949951  1365.000000  ...   9272276.0     YES\n",
            "2021-06-03  1399.000000  1377.050049  ...   5115645.0     YES\n",
            "2021-06-04  1396.900024  1377.650024  ...   4194328.0     YES\n",
            "\n",
            "[220 rows x 6 columns]\n"
          ],
          "name": "stdout"
        }
      ]
    },
    {
      "cell_type": "markdown",
      "metadata": {
        "id": "6aUW1pf4pm6L"
      },
      "source": [
        "Decision Tree : XGBoost"
      ]
    },
    {
      "cell_type": "code",
      "metadata": {
        "id": "ik9BxZfepvhg"
      },
      "source": [
        "from numpy import loadtxt\n",
        "from xgboost import XGBClassifier\n",
        "from sklearn.model_selection import train_test_split\n",
        "from sklearn.metrics import accuracy_score"
      ],
      "execution_count": null,
      "outputs": []
    },
    {
      "cell_type": "code",
      "metadata": {
        "colab": {
          "base_uri": "https://localhost:8080/"
        },
        "id": "D2JiZ53_pvka",
        "outputId": "cde790c6-b9e4-4210-95ae-984823fd2c09"
      },
      "source": [
        "# split data into X and y\n",
        "INFY_X = INFY2DecisionTree.iloc[:,0:5]\n",
        "INFY_Y = INFY2DecisionTree['Target']\n",
        "\n",
        "TCS_X = TCS2DecisionTree.iloc[:,0:5]\n",
        "TCS_Y = TCS2DecisionTree['Target']\n",
        "\n",
        "TECHM_X = TECHM2DecisionTree.iloc[:,0:5]\n",
        "TECHM_Y = TECHM2DecisionTree['Target']\n",
        "\n",
        "HCLTECH_X = HCLTECH2DecisionTree.iloc[:,0:5]\n",
        "HCLTECH_Y = HCLTECH2DecisionTree['Target']\n",
        "\n",
        "BHARTIARTL_X = BHARTIARTL2DecisionTree.iloc[:,0:5]\n",
        "BHARTIARTL_Y = BHARTIARTL2DecisionTree['Target']\n",
        "\n",
        "print(INFY_X)"
      ],
      "execution_count": null,
      "outputs": [
        {
          "output_type": "stream",
          "text": [
            "                   High          Low         Open        Close      Volume\n",
            "Date                                                                      \n",
            "2020-07-17   919.900024   892.150024   911.000000   903.150024  31682878.0\n",
            "2020-07-20   945.000000   906.750000   908.500000   934.299988  18421053.0\n",
            "2020-07-21   949.700012   929.200012   945.000000   936.750000  12877784.0\n",
            "2020-07-22   939.000000   910.000000   938.950012   917.900024  14354201.0\n",
            "2020-07-23   915.799988   900.650024   915.650024   907.950012  13051307.0\n",
            "...                 ...          ...          ...          ...         ...\n",
            "2021-05-31  1401.500000  1383.000000  1401.500000  1393.750000   4429904.0\n",
            "2021-06-01  1401.000000  1378.650024  1400.000000  1387.199951   4791325.0\n",
            "2021-06-02  1391.949951  1365.000000  1380.750000  1378.650024   9272276.0\n",
            "2021-06-03  1399.000000  1377.050049  1388.099976  1389.650024   5115645.0\n",
            "2021-06-04  1396.900024  1377.650024  1393.949951  1385.650024   4194328.0\n",
            "\n",
            "[220 rows x 5 columns]\n"
          ],
          "name": "stdout"
        }
      ]
    },
    {
      "cell_type": "code",
      "metadata": {
        "id": "6HAVBixQruUR"
      },
      "source": [
        "# split data into train and test sets\n",
        "seed = 50\n",
        "test_size = 0.33\n",
        "INFY_X_train, INFY_X_test, INFY_y_train, INFY_y_test = train_test_split(INFY_X, INFY_Y, test_size=test_size, random_state=seed)\n",
        "TCS_X_train, TCS_X_test, TCS_y_train, TCS_y_test = train_test_split(TCS_X, TCS_Y, test_size=test_size, random_state=seed)\n",
        "HCLTECH_X_train, HCLTECH_X_test, HCLTECH_y_train, HCLTECH_y_test = train_test_split(HCLTECH_X, HCLTECH_Y, test_size=test_size, random_state=seed)\n",
        "TECHM_X_train, TECHM_X_test, TECHM_y_train, TECHM_y_test = train_test_split(TECHM_X, TECHM_Y, test_size=test_size, random_state=seed)\n",
        "BHARTIARTL_X_train, BHARTIARTL_X_test, BHARTIARTL_y_train, BHARTIARTL_y_test = train_test_split(BHARTIARTL_X, BHARTIARTL_Y, test_size=test_size, random_state=seed)"
      ],
      "execution_count": null,
      "outputs": []
    },
    {
      "cell_type": "code",
      "metadata": {
        "colab": {
          "base_uri": "https://localhost:8080/"
        },
        "id": "jMILfU6Pry-r",
        "outputId": "9f0a1cb8-084d-48db-c431-ddec1e0ba571"
      },
      "source": [
        "# fit model no training data\n",
        "INFY_model = XGBClassifier()\n",
        "INFY_model.fit(INFY_X_train, INFY_y_train)\n",
        "\n",
        "TCS_model = XGBClassifier()\n",
        "TCS_model.fit(TCS_X_train, TCS_y_train)\n",
        "\n",
        "TECHM_model = XGBClassifier()\n",
        "TECHM_model.fit(TECHM_X_train, TECHM_y_train)\n",
        "\n",
        "HCLTECH_model = XGBClassifier()\n",
        "HCLTECH_model.fit(HCLTECH_X_train, HCLTECH_y_train)\n",
        "\n",
        "BHARTIARTL_model = XGBClassifier()\n",
        "BHARTIARTL_model.fit(BHARTIARTL_X_train, BHARTIARTL_y_train)"
      ],
      "execution_count": null,
      "outputs": [
        {
          "output_type": "execute_result",
          "data": {
            "text/plain": [
              "XGBClassifier(base_score=0.5, booster='gbtree', colsample_bylevel=1,\n",
              "              colsample_bynode=1, colsample_bytree=1, gamma=0,\n",
              "              learning_rate=0.1, max_delta_step=0, max_depth=3,\n",
              "              min_child_weight=1, missing=None, n_estimators=100, n_jobs=1,\n",
              "              nthread=None, objective='binary:logistic', random_state=0,\n",
              "              reg_alpha=0, reg_lambda=1, scale_pos_weight=1, seed=None,\n",
              "              silent=None, subsample=1, verbosity=1)"
            ]
          },
          "metadata": {
            "tags": []
          },
          "execution_count": 101
        }
      ]
    },
    {
      "cell_type": "code",
      "metadata": {
        "colab": {
          "base_uri": "https://localhost:8080/"
        },
        "id": "Py-onLKonfpv",
        "outputId": "667bb9f2-276b-4c72-d6a7-1ca715df81c6"
      },
      "source": [
        "# fit model no training data\n",
        "INFY_model = XGBClassifier()\n",
        "INFY_model.fit(INFY_X_train, INFY_y_train)"
      ],
      "execution_count": null,
      "outputs": [
        {
          "output_type": "execute_result",
          "data": {
            "text/plain": [
              "XGBClassifier(base_score=0.5, booster='gbtree', colsample_bylevel=1,\n",
              "              colsample_bynode=1, colsample_bytree=1, gamma=0,\n",
              "              learning_rate=0.1, max_delta_step=0, max_depth=3,\n",
              "              min_child_weight=1, missing=None, n_estimators=100, n_jobs=1,\n",
              "              nthread=None, objective='binary:logistic', random_state=0,\n",
              "              reg_alpha=0, reg_lambda=1, scale_pos_weight=1, seed=None,\n",
              "              silent=None, subsample=1, verbosity=1)"
            ]
          },
          "metadata": {
            "tags": []
          },
          "execution_count": 104
        }
      ]
    },
    {
      "cell_type": "code",
      "metadata": {
        "id": "JpiWKpgZr0zT"
      },
      "source": [
        "# make predictions for test data\n",
        "INFY_y_pred = INFY_model.predict(INFY_X_test)\n",
        "INFY_predictions = [value for value in INFY_y_pred]\n",
        "\n",
        "TCS_y_pred = TCS_model.predict(TCS_X_test)\n",
        "TCS_predictions = [value for value in TCS_y_pred]\n",
        "\n",
        "TECHM_y_pred = TECHM_model.predict(TECHM_X_test)\n",
        "TECHM_predictions = [value for value in TECHM_y_pred]\n",
        "\n",
        "HCLTECH_y_pred = HCLTECH_model.predict(HCLTECH_X_test)\n",
        "HCLTECH_predictions = [value for value in HCLTECH_y_pred]\n",
        "\n",
        "BHARTIARTL_y_pred = BHARTIARTL_model.predict(BHARTIARTL_X_test)\n",
        "BHARTIARTL_predictions = [value for value in BHARTIARTL_y_pred]\n",
        "\n",
        "# print(predictions)"
      ],
      "execution_count": null,
      "outputs": []
    },
    {
      "cell_type": "code",
      "metadata": {
        "id": "pHVWaHNbsH22",
        "colab": {
          "base_uri": "https://localhost:8080/"
        },
        "outputId": "f816e97f-965a-4f36-fba1-fc65d01f459e"
      },
      "source": [
        "# evaluate predictions\n",
        "accuracy = accuracy_score(INFY_y_test, INFY_predictions)\n",
        "print(\"Accuracy: %.2f%%\" % (accuracy * 100.0))"
      ],
      "execution_count": null,
      "outputs": [
        {
          "output_type": "stream",
          "text": [
            "Accuracy: 78.08%\n"
          ],
          "name": "stdout"
        }
      ]
    },
    {
      "cell_type": "code",
      "metadata": {
        "colab": {
          "base_uri": "https://localhost:8080/"
        },
        "id": "JeF-Q7SNsO0N",
        "outputId": "a0f49c0a-c14a-4181-fbba-eda21c737854"
      },
      "source": [
        "end = datetime.now()\n",
        "st = datetime(end.year, end.month, end.day)\n",
        "\n",
        "INFY_todayData = DataReader('INFY.NS', 'yahoo', st, end)\n",
        "INFY_todayData = INFY_todayData.iloc[:, 0:5]\n",
        "print(INFY_todayData)\n",
        "\n",
        "TCS_todayData = DataReader('TCS.NS', 'yahoo', st, end)\n",
        "TCS_todayData = TCS_todayData.iloc[:, 0:5]\n",
        "print(TCS_todayData)\n",
        "\n",
        "TECHM_todayData = DataReader('TECHM.NS', 'yahoo', st, end)\n",
        "TECHM_todayData = TECHM_todayData.iloc[:, 0:5]\n",
        "print(TECHM_todayData)\n",
        "\n",
        "HCLTECH_todayData = DataReader('HCLTECH.NS', 'yahoo', st, end)\n",
        "HCLTECH_todayData = HCLTECH_todayData.iloc[:, 0:5]\n",
        "print(HCLTECH_todayData)\n",
        "\n",
        "BHARTIARTL_todayData = DataReader('BHARTIARTL.NS', 'yahoo', st, end)\n",
        "BHARTIARTL_todayData = BHARTIARTL_todayData.iloc[:, 0:5]\n",
        "print(BHARTIARTL_todayData)\n",
        "\n"
      ],
      "execution_count": null,
      "outputs": [
        {
          "output_type": "stream",
          "text": [
            "                   High          Low         Open        Close   Volume\n",
            "Date                                                                   \n",
            "2021-06-04  1396.900024  1377.650024  1393.949951  1385.650024  4192655\n",
            "                   High   Low  Open    Close   Volume\n",
            "Date                                                 \n",
            "2021-06-04  3156.850098  3125  3128  3143.75  1835452\n",
            "                   High   Low         Open        Close   Volume\n",
            "Date                                                            \n",
            "2021-06-04  1026.949951  1011  1019.549988  1019.200012  2315793\n",
            "                  High     Low        Open       Close   Volume\n",
            "Date                                                           \n",
            "2021-06-04  944.200012  934.75  940.099976  936.549988  3548468\n",
            "                  High         Low        Open       Close   Volume\n",
            "Date                                                               \n",
            "2021-06-04  535.799988  531.200012  533.950012  532.700012  4784389\n"
          ],
          "name": "stdout"
        }
      ]
    },
    {
      "cell_type": "code",
      "metadata": {
        "colab": {
          "base_uri": "https://localhost:8080/"
        },
        "id": "Rc-MtpuJuvXv",
        "outputId": "207d1b54-18b1-4334-a916-949616c16c7d"
      },
      "source": [
        "INFY_shouldInvest = INFY_model.predict(INFY_todayData)\n",
        "TCS_shouldInvest = TCS_model.predict(TCS_todayData)\n",
        "TECHM_shouldInvest = TECHM_model.predict(TECHM_todayData)\n",
        "HCLTECH_shouldInvest = HCLTECH_model.predict(HCLTECH_todayData)\n",
        "BHARTIARTL_shouldInvest = BHARTIARTL_model.predict(BHARTIARTL_todayData)\n",
        "\n",
        "print(INFY_shouldInvest)\n",
        "print(TCS_shouldInvest)\n",
        "print(TECHM_shouldInvest)\n",
        "print(HCLTECH_shouldInvest)\n",
        "print(BHARTIARTL_shouldInvest)\n",
        "\n",
        "shouldInvest = [INFY_shouldInvest, TCS_shouldInvest, TECHM_shouldInvest, HCLTECH_shouldInvest, BHARTIARTL_shouldInvest]\n"
      ],
      "execution_count": null,
      "outputs": [
        {
          "output_type": "stream",
          "text": [
            "['YES']\n",
            "['NO']\n",
            "['YES']\n",
            "['YES']\n",
            "['YES']\n"
          ],
          "name": "stdout"
        }
      ]
    },
    {
      "cell_type": "code",
      "metadata": {
        "colab": {
          "base_uri": "https://localhost:8080/",
          "height": 202
        },
        "id": "geYx9GIhvXGw",
        "outputId": "ac687b06-29b7-47b3-9d9e-53c5c5a253db"
      },
      "source": [
        "SBiMutualfundData = pd.read_csv('SBIData.csv')\n",
        "SBiMutualfundData = SBiMutualfundData.iloc[0:5, :]\n",
        "SBiMutualfundData"
      ],
      "execution_count": null,
      "outputs": [
        {
          "output_type": "execute_result",
          "data": {
            "text/html": [
              "<div>\n",
              "<style scoped>\n",
              "    .dataframe tbody tr th:only-of-type {\n",
              "        vertical-align: middle;\n",
              "    }\n",
              "\n",
              "    .dataframe tbody tr th {\n",
              "        vertical-align: top;\n",
              "    }\n",
              "\n",
              "    .dataframe thead th {\n",
              "        text-align: right;\n",
              "    }\n",
              "</style>\n",
              "<table border=\"1\" class=\"dataframe\">\n",
              "  <thead>\n",
              "    <tr style=\"text-align: right;\">\n",
              "      <th></th>\n",
              "      <th>Name of the Instrument / Issuer</th>\n",
              "      <th>ISIN</th>\n",
              "      <th>Rating / Industry^</th>\n",
              "      <th>Quantity</th>\n",
              "      <th>Market value\\n (Rs. in Lakhs)</th>\n",
              "      <th>% to AUM</th>\n",
              "    </tr>\n",
              "  </thead>\n",
              "  <tbody>\n",
              "    <tr>\n",
              "      <th>0</th>\n",
              "      <td>Infosys Ltd.</td>\n",
              "      <td>INE009A01021</td>\n",
              "      <td>Software</td>\n",
              "      <td>1,220,200</td>\n",
              "      <td>16,692.95</td>\n",
              "      <td>28.04</td>\n",
              "    </tr>\n",
              "    <tr>\n",
              "      <th>1</th>\n",
              "      <td>Tata Consultancy Services Ltd.</td>\n",
              "      <td>INE467B01029</td>\n",
              "      <td>Software</td>\n",
              "      <td>191,411</td>\n",
              "      <td>6,082.75</td>\n",
              "      <td>10.22</td>\n",
              "    </tr>\n",
              "    <tr>\n",
              "      <th>2</th>\n",
              "      <td>HCL Technologies Ltd.</td>\n",
              "      <td>INE860A01027</td>\n",
              "      <td>Software</td>\n",
              "      <td>559,374</td>\n",
              "      <td>5,496.69</td>\n",
              "      <td>9.23</td>\n",
              "    </tr>\n",
              "    <tr>\n",
              "      <th>3</th>\n",
              "      <td>Tech Mahindra Ltd.</td>\n",
              "      <td>INE669C01036</td>\n",
              "      <td>Software</td>\n",
              "      <td>352,935</td>\n",
              "      <td>3,499.17</td>\n",
              "      <td>5.88</td>\n",
              "    </tr>\n",
              "    <tr>\n",
              "      <th>4</th>\n",
              "      <td>Bharti Airtel Ltd.</td>\n",
              "      <td>INE397D01024</td>\n",
              "      <td>Telecom - Services</td>\n",
              "      <td>673,130</td>\n",
              "      <td>3,482.10</td>\n",
              "      <td>5.85</td>\n",
              "    </tr>\n",
              "  </tbody>\n",
              "</table>\n",
              "</div>"
            ],
            "text/plain": [
              "  Name of the Instrument / Issuer  ... % to AUM\n",
              "0                    Infosys Ltd.  ...    28.04\n",
              "1  Tata Consultancy Services Ltd.  ...    10.22\n",
              "2           HCL Technologies Ltd.  ...     9.23\n",
              "3              Tech Mahindra Ltd.  ...     5.88\n",
              "4              Bharti Airtel Ltd.  ...     5.85\n",
              "\n",
              "[5 rows x 6 columns]"
            ]
          },
          "metadata": {
            "tags": []
          },
          "execution_count": 101
        }
      ]
    },
    {
      "cell_type": "code",
      "metadata": {
        "id": "4qoZj5geHs-s",
        "colab": {
          "base_uri": "https://localhost:8080/"
        },
        "outputId": "7b2bb67c-0239-4f40-d119-985ac0d8cc8a"
      },
      "source": [
        "userMoney = 1000\n",
        "\n",
        "# per = [47.348, 17.257, 15.585, 9.929, 9.878]\n",
        "per = []\n",
        "investCompanyName = []\n",
        "# tmp_data = SBiMutualfundData.to_string(head = False) \n",
        "for i in range(0, 5):\n",
        "  if shouldInvest[i] == 'YES':\n",
        "    per.append(SBiMutualfundData._get_value(i, \"% to AUM\"))\n",
        "    investCompanyName.append(SBiMutualfundData._get_value(i, \"Name of the Instrument / Issuer\"))\n",
        "per\n",
        "investCompanyName"
      ],
      "execution_count": null,
      "outputs": [
        {
          "output_type": "execute_result",
          "data": {
            "text/plain": [
              "['Infosys Ltd.',\n",
              " 'HCL Technologies Ltd.',\n",
              " 'Tech Mahindra Ltd.',\n",
              " 'Bharti Airtel Ltd.']"
            ]
          },
          "metadata": {
            "tags": []
          },
          "execution_count": 102
        }
      ]
    },
    {
      "cell_type": "code",
      "metadata": {
        "colab": {
          "base_uri": "https://localhost:8080/"
        },
        "id": "4OJXWucrYXTu",
        "outputId": "34bba568-4d43-4974-fe15-8aa0f788580b"
      },
      "source": [
        "perSum = sum(per)\n",
        "\n",
        "perSum\n",
        "\n",
        "investPer = []\n",
        "investAmount = []\n",
        "for i in range(0, len(per)):\n",
        "  investPer.append((100 * per[i]) / perSum)\n",
        "  investAmount.append((investPer[i] / 100) * userMoney)\n",
        "\n",
        "investPer"
      ],
      "execution_count": null,
      "outputs": [
        {
          "output_type": "execute_result",
          "data": {
            "text/plain": [
              "[57.224489795918366, 18.836734693877553, 12.0, 11.938775510204081]"
            ]
          },
          "metadata": {
            "tags": []
          },
          "execution_count": 103
        }
      ]
    },
    {
      "cell_type": "code",
      "metadata": {
        "colab": {
          "base_uri": "https://localhost:8080/"
        },
        "id": "AOcq_HW2ff65",
        "outputId": "ffddd213-c40f-4d20-b53f-2b1ab0035e65"
      },
      "source": [
        "# investAmount = 1000\n",
        "for i in range(0, len(investAmount)):\n",
        "  print(str(investCompanyName[i]) + \" = \" + str(investAmount[i]))\n"
      ],
      "execution_count": null,
      "outputs": [
        {
          "output_type": "stream",
          "text": [
            "Infosys Ltd. = 572.2448979591836\n",
            "HCL Technologies Ltd. = 188.3673469387755\n",
            "Tech Mahindra Ltd. = 120.0\n",
            "Bharti Airtel Ltd. = 119.38775510204081\n"
          ],
          "name": "stdout"
        }
      ]
    }
  ]
}
